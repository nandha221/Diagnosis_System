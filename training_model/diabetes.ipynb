{
 "cells": [
  {
   "cell_type": "code",
   "execution_count": 1,
   "metadata": {},
   "outputs": [
    {
     "name": "stdout",
     "output_type": "stream",
     "text": [
      "Fitting 5 folds for each of 108 candidates, totalling 540 fits\n",
      "Random Forest Cross-Validation Accuracy: 77.53%\n",
      "Random Forest Training Accuracy: 92.51%\n",
      "Random Forest Test Accuracy: 75.32%\n"
     ]
    }
   ],
   "source": [
    "import numpy as np\n",
    "import pandas as pd\n",
    "from sklearn.model_selection import train_test_split, GridSearchCV, cross_val_score\n",
    "from sklearn.preprocessing import StandardScaler\n",
    "from sklearn.linear_model import LogisticRegression\n",
    "from sklearn.metrics import accuracy_score\n",
    "from imblearn.over_sampling import SMOTE\n",
    "from imblearn.under_sampling import RandomUnderSampler\n",
    "from imblearn.pipeline import Pipeline\n",
    "import pickle\n",
    "from sklearn.ensemble import RandomForestClassifier\n",
    "\n",
    "\n",
    "diabetes_dataset = pd.read_csv(\"../datasets/diabetes.csv\")\n",
    "\n",
    "\n",
    "x = diabetes_dataset.drop(columns=['Outcome'], axis=1)\n",
    "y = diabetes_dataset['Outcome']\n",
    "\n",
    "\n",
    "scaler = StandardScaler()\n",
    "x_scaled = scaler.fit_transform(x)\n",
    "\n",
    "\n",
    "x_train, x_test, y_train, y_test = train_test_split(x_scaled, y, test_size=0.2, random_state=42)\n",
    "\n",
    "\n",
    "rf_model = RandomForestClassifier(random_state=42)\n",
    "\n",
    "\n",
    "param_grid = {\n",
    "    'model__n_estimators': [50, 100, 200],\n",
    "    'model__max_depth': [None, 10, 20, 30],\n",
    "    'model__min_samples_split': [2, 5, 10],\n",
    "    'model__min_samples_leaf': [1, 2, 4]\n",
    "}\n",
    "\n",
    "\n",
    "pipeline = Pipeline([\n",
    "    ('oversample', SMOTE(random_state=42)),\n",
    "    ('undersample', RandomUnderSampler(random_state=42)),\n",
    "    ('model', rf_model)\n",
    "])\n",
    "\n",
    "\n",
    "grid_search = GridSearchCV(estimator=pipeline, param_grid=param_grid, cv=5, n_jobs=-1, verbose=2)\n",
    "grid_search.fit(x_train, y_train)\n",
    "\n",
    "\n",
    "best_rf_model = grid_search.best_estimator_\n",
    "\n",
    "\n",
    "cv_scores = cross_val_score(best_rf_model, x_train, y_train, cv=5)\n",
    "print(f\"Random Forest Cross-Validation Accuracy: {np.mean(cv_scores) * 100:.2f}%\")\n",
    "\n",
    "\n",
    "best_rf_model.fit(x_train, y_train)\n",
    "\n",
    "\n",
    "train_predictions = best_rf_model.predict(x_train)\n",
    "train_accuracy = accuracy_score(y_train, train_predictions)\n",
    "\n",
    "\n",
    "test_predictions = best_rf_model.predict(x_test)\n",
    "test_accuracy = accuracy_score(y_test, test_predictions)\n",
    "\n",
    "\n",
    "print(f\"Random Forest Training Accuracy: {train_accuracy * 100:.2f}%\")\n",
    "print(f\"Random Forest Test Accuracy: {test_accuracy * 100:.2f}%\")\n",
    "\n",
    "\n",
    "filename = 'diabetes_model.sav'\n",
    "pickle.dump(best_rf_model, open(filename, 'wb'))"
   ]
  }
 ],
 "metadata": {
  "kernelspec": {
   "display_name": "Python 3",
   "language": "python",
   "name": "python3"
  },
  "language_info": {
   "codemirror_mode": {
    "name": "ipython",
    "version": 3
   },
   "file_extension": ".py",
   "mimetype": "text/x-python",
   "name": "python",
   "nbconvert_exporter": "python",
   "pygments_lexer": "ipython3",
   "version": "3.12.6"
  }
 },
 "nbformat": 4,
 "nbformat_minor": 2
}
