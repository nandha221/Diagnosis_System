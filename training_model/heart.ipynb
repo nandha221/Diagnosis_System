{
 "cells": [
  {
   "cell_type": "code",
   "execution_count": 1,
   "metadata": {},
   "outputs": [
    {
     "name": "stdout",
     "output_type": "stream",
     "text": [
      "Fitting 5 folds for each of 25 candidates, totalling 125 fits\n",
      "Logistic Regression Cross-Validation Accuracy: 83.47%\n",
      "Logistic Regression Training Accuracy: 84.71%\n",
      "Logistic Regression Test Accuracy: 86.89%\n"
     ]
    }
   ],
   "source": [
    "import numpy as np\n",
    "import pandas as pd\n",
    "from sklearn.model_selection import train_test_split, GridSearchCV, cross_val_score\n",
    "from sklearn.preprocessing import StandardScaler\n",
    "from sklearn.linear_model import LogisticRegression\n",
    "from sklearn.metrics import accuracy_score\n",
    "from imblearn.over_sampling import SMOTE\n",
    "from imblearn.under_sampling import RandomUnderSampler\n",
    "from imblearn.pipeline import Pipeline\n",
    "import pickle\n",
    "\n",
    "\n",
    "heart_dataset = pd.read_csv(\"../datasets/heart.csv\")\n",
    "\n",
    "\n",
    "x = heart_dataset.drop(columns=['target'], axis=1)\n",
    "y = heart_dataset['target']\n",
    "\n",
    "\n",
    "scaler = StandardScaler()\n",
    "x_scaled = scaler.fit_transform(x)\n",
    "\n",
    "\n",
    "x_train, x_test, y_train, y_test = train_test_split(x_scaled, y, test_size=0.2, random_state=42)\n",
    "\n",
    "\n",
    "model = LogisticRegression(random_state=42, max_iter=1000)\n",
    "\n",
    "\n",
    "param_grid = [\n",
    "    {'model__C': [0.01, 0.1, 1, 10, 100], 'model__penalty': ['l2'], 'model__solver': ['lbfgs', 'saga']},\n",
    "    {'model__C': [0.01, 0.1, 1, 10, 100], 'model__penalty': ['l1'], 'model__solver': ['liblinear', 'saga']},\n",
    "    {'model__C': [0.01, 0.1, 1, 10, 100], 'model__penalty': ['elasticnet'], 'model__solver': ['saga'], 'model__l1_ratio': [0.5]}\n",
    "]\n",
    "\n",
    "\n",
    "pipeline = Pipeline([\n",
    "    ('oversample', SMOTE(random_state=42)),\n",
    "    ('undersample', RandomUnderSampler(random_state=42)),\n",
    "    ('model', model)\n",
    "])\n",
    "\n",
    "\n",
    "grid_search = GridSearchCV(estimator=pipeline, param_grid=param_grid, cv=5, n_jobs=-1, verbose=2)\n",
    "grid_search.fit(x_train, y_train)\n",
    "\n",
    "\n",
    "best_model = grid_search.best_estimator_\n",
    "\n",
    "\n",
    "cv_scores = cross_val_score(best_model, x_train, y_train, cv=5)\n",
    "print(f\"Logistic Regression Cross-Validation Accuracy: {np.mean(cv_scores) * 100:.2f}%\")\n",
    "\n",
    "\n",
    "best_model.fit(x_train, y_train)\n",
    "\n",
    "\n",
    "train_predictions = best_model.predict(x_train)\n",
    "train_accuracy = accuracy_score(y_train, train_predictions)\n",
    "print(f\"Logistic Regression Training Accuracy: {train_accuracy * 100:.2f}%\")\n",
    "\n",
    "\n",
    "test_predictions = best_model.predict(x_test)\n",
    "test_accuracy = accuracy_score(y_test, test_predictions)\n",
    "print(f\"Logistic Regression Test Accuracy: {test_accuracy * 100:.2f}%\")\n",
    "\n",
    "\n",
    "filename = 'heart_model.sav'\n",
    "pickle.dump(best_model, open(filename, 'wb'))\n"
   ]
  }
 ],
 "metadata": {
  "kernelspec": {
   "display_name": "Python 3",
   "language": "python",
   "name": "python3"
  },
  "language_info": {
   "codemirror_mode": {
    "name": "ipython",
    "version": 3
   },
   "file_extension": ".py",
   "mimetype": "text/x-python",
   "name": "python",
   "nbconvert_exporter": "python",
   "pygments_lexer": "ipython3",
   "version": "3.12.6"
  }
 },
 "nbformat": 4,
 "nbformat_minor": 2
}
